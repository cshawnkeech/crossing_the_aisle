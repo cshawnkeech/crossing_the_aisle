{
 "cells": [
  {
   "cell_type": "markdown",
   "metadata": {},
   "source": [
    "# Four Administrations: A Hypothesis Test\n",
    "\n",
    "The composition of congress often changes during the course of a president's administration. This change provides an interesting opportunity: the ability to compare bipartisanship within an administration.\n",
    "\n",
    "These four, a balance of two Republican and two Democratic administrations, present two mutually-exclusive scenarios:\n",
    "\n",
    "- the party holds both the executive and both chambers of congress\n",
    "- one party holds the executive and both chambers are held by the opposition\n",
    "\n",
    "| Years   | President & Party |     | Congress | House (D) | House (R) | House (other) | Senate (D) | Senate (R) | Senate (other) | Government is: |\n",
    "| ------- | ----------------- | --- | -------- | --------- | --------- | ------------- | ---------- | ---------- | -------------- | -------------- |\n",
    "| 1947-48 | Truman            | D   | 80th     | 188       | 246       | 1             | 45         | 51         | 0              | divided        |\n",
    "| 1949-50 | Truman            | D   | 81st     | 263       | 171       | 1             | 54         | 42         | 0              | unified        |\n",
    "| 1953-54 | Eisenhower        | R   | 83rd     | 213       | 221       | 1             | 47         | 48         | 1              | unified        |\n",
    "| 1955-56 | Eisenhower        | R   | 84th     | 232       | 203       | 0             | 48         | 47         | 1              | divided        |\n",
    "| 1993-94 | Clinton           | D   | 103rd    | 258       | 176       | 1             | 57         | 43         | 0              | unified        |\n",
    "| 1995-96 | Clinton           | D   | 104th    | 202       | 232       | 1             | 46         | 54         | 0              | divided        |\n",
    "| 2005-06 | Bush, GW          | R   | 109th    | 200       | 234       | 1             | 45         | 55         | 0              | unified        |\n",
    "| 2007-08 | Bush, GW          | R   | 110th    | 231       | 204       | 0             | 51         | 49         | 0              | divided        |\n"
   ]
  },
  {
   "cell_type": "markdown",
   "metadata": {},
   "source": [
    "# Hypothesis:\n",
    "\n",
    "There is a statistically significant difference in congressional\n",
    "bipartisanship between unified and divided governments.\n",
    "\n",
    "- $H_0: \\mu_{1} = \\mu_{2}$ There is no statistical difference in the means\n",
    "- $H_1: \\mu_{1} \\neq \\mu_{2}$ There is a statistical difference in the\n",
    "  means\n",
    "\n",
    "- $ \\alpha = 0.05$\n"
   ]
  },
  {
   "cell_type": "markdown",
   "metadata": {},
   "source": [
    "# Methodology & Rationale:\n",
    "\n",
    "- Sample data will be divided in to mutually exclusive categories: four Unified years and four Divided years.\n",
    "- Welch's T test will be employed on the data to determine statistical difference\n",
    "- Welch's accommodates for possible differences in variance\n",
    "- Sample sizes are large enough to accommodate possible non-normal distribution\n"
   ]
  },
  {
   "cell_type": "markdown",
   "metadata": {},
   "source": [
    "### Imports:\n"
   ]
  },
  {
   "cell_type": "markdown",
   "metadata": {},
   "source": [
    "Core Imports\n"
   ]
  },
  {
   "cell_type": "code",
   "execution_count": 1,
   "metadata": {},
   "outputs": [],
   "source": [
    "import pandas as pd\n",
    "import numpy as np\n",
    "from scipy import stats"
   ]
  },
  {
   "cell_type": "markdown",
   "metadata": {},
   "source": [
    "Plotting imports & settings\n",
    "\n",
    "References:\n",
    "\n",
    "- [Center graphs in window](https://stackoverflow.com/a/47801379)\n"
   ]
  },
  {
   "cell_type": "code",
   "execution_count": 2,
   "metadata": {},
   "outputs": [
    {
     "data": {
      "text/html": [
       "\n",
       "<style>\n",
       ".output_png {\n",
       "    display: table-cell;\n",
       "    text-align: center;\n",
       "    margin:auto;\n",
       "}\n",
       ".prompt \n",
       "    display:none;\n",
       "}  \n",
       "</style>\n"
      ],
      "text/plain": [
       "<IPython.core.display.HTML object>"
      ]
     },
     "execution_count": 2,
     "metadata": {},
     "output_type": "execute_result"
    }
   ],
   "source": [
    "import matplotlib.pyplot as plt\n",
    "%matplotlib inline\n",
    "\n",
    "import seaborn as sns\n",
    "\n",
    "from IPython.core.display import HTML\n",
    "HTML(\"\"\"\n",
    "<style>\n",
    ".output_png {\n",
    "    display: table-cell;\n",
    "    text-align: center;\n",
    "    margin:auto;\n",
    "}\n",
    ".prompt \n",
    "    display:none;\n",
    "}  \n",
    "</style>\n",
    "\"\"\")"
   ]
  },
  {
   "cell_type": "markdown",
   "metadata": {},
   "source": [
    "Import Custom Functions\n"
   ]
  },
  {
   "cell_type": "code",
   "execution_count": 3,
   "metadata": {},
   "outputs": [],
   "source": [
    "# ensure custom code is on path\n",
    "import sys\n",
    "sys.path.insert(0, '../')"
   ]
  },
  {
   "cell_type": "code",
   "execution_count": 4,
   "metadata": {},
   "outputs": [],
   "source": [
    "from src.ratio_calc import (\n",
    "    calculate_bpr,\n",
    "    bpr_result_graph,\n",
    "    get_bpr_data_from_urls,\n",
    "    bpr_result_graph_ax)"
   ]
  },
  {
   "cell_type": "markdown",
   "metadata": {},
   "source": [
    "### Gather & Process Unified & Divided Data\n"
   ]
  },
  {
   "cell_type": "code",
   "execution_count": 5,
   "metadata": {},
   "outputs": [],
   "source": [
    "# Create lists of divided & unified congressional sessions\n",
    "hs_divided_sessions = [80, 84, 104, 110]\n",
    "hs_unified_sessions = [81, 83, 103, 109]"
   ]
  },
  {
   "cell_type": "markdown",
   "metadata": {},
   "source": [
    "### Fetch & process associated files\n"
   ]
  },
  {
   "cell_type": "code",
   "execution_count": 6,
   "metadata": {},
   "outputs": [],
   "source": [
    "# divided\n",
    "divided_bpr_hs_sessions = get_bpr_data_from_urls(\n",
    "    given_list=hs_divided_sessions, chamber=\"HS\")"
   ]
  },
  {
   "cell_type": "code",
   "execution_count": 7,
   "metadata": {},
   "outputs": [],
   "source": [
    "# unified\n",
    "unified_bpr_hs_sessions = get_bpr_data_from_urls(\n",
    "    given_list=hs_unified_sessions, chamber=\"HS\")"
   ]
  },
  {
   "cell_type": "code",
   "execution_count": 8,
   "metadata": {},
   "outputs": [
    {
     "name": "stdout",
     "output_type": "stream",
     "text": [
      "dict_keys(['hs_080', 'hs_084', 'hs_104', 'hs_110'])\n",
      "dict_keys(['hs_081', 'hs_083', 'hs_103', 'hs_109'])\n"
     ]
    }
   ],
   "source": [
    "# Confirm keys:\n",
    "print(\n",
    "    divided_bpr_hs_sessions.keys(),\n",
    "    unified_bpr_hs_sessions.keys(),\n",
    "    sep=\"\\n\")"
   ]
  },
  {
   "cell_type": "code",
   "execution_count": 9,
   "metadata": {},
   "outputs": [],
   "source": [
    "# combine divided bpr lists into single sample list\n",
    "d_hs_080 = [divided_bpr_hs_sessions['hs_080'][i][1]\n",
    "            for i in range(len(divided_bpr_hs_sessions['hs_080']))]\n",
    "d_hs_084 = [divided_bpr_hs_sessions['hs_084'][i][1]\n",
    "            for i in range(len(divided_bpr_hs_sessions['hs_084']))]\n",
    "d_hs_104 = [divided_bpr_hs_sessions['hs_104'][i][1]\n",
    "            for i in range(len(divided_bpr_hs_sessions['hs_104']))]\n",
    "d_hs_110 = [divided_bpr_hs_sessions['hs_110'][i][1]\n",
    "            for i in range(len(divided_bpr_hs_sessions['hs_110']))]\n",
    "\n",
    "divided_bpr_sample = d_hs_080 + d_hs_084 + d_hs_104 + d_hs_110"
   ]
  },
  {
   "cell_type": "code",
   "execution_count": 10,
   "metadata": {},
   "outputs": [],
   "source": [
    "# combine unified bpr lists into single sample list\n",
    "u_hs_081 = [unified_bpr_hs_sessions['hs_081'][i][1]\n",
    "            for i in range(len(unified_bpr_hs_sessions['hs_081']))]\n",
    "u_hs_083 = [unified_bpr_hs_sessions['hs_083'][i][1]\n",
    "            for i in range(len(unified_bpr_hs_sessions['hs_083']))]\n",
    "u_hs_103 = [unified_bpr_hs_sessions['hs_103'][i][1]\n",
    "            for i in range(len(unified_bpr_hs_sessions['hs_103']))]\n",
    "u_hs_109 = [unified_bpr_hs_sessions['hs_109'][i][1]\n",
    "            for i in range(len(unified_bpr_hs_sessions['hs_109']))]\n",
    "\n",
    "unified_bpr_sample = u_hs_081 + u_hs_083 + u_hs_103 + u_hs_109"
   ]
  },
  {
   "cell_type": "markdown",
   "metadata": {},
   "source": [
    "## Describe the Distributions\n"
   ]
  },
  {
   "cell_type": "code",
   "execution_count": 11,
   "metadata": {},
   "outputs": [
    {
     "data": {
      "text/plain": [
       "{'nobs': 5514,\n",
       " 'minmax': (0.0, 1.0),\n",
       " 'mean': 0.4266587693691865,\n",
       " 'variance': 0.0946772207874681,\n",
       " 'skewness': 0.2855269328285173,\n",
       " 'kurtosis': -1.2983813232861967}"
      ]
     },
     "execution_count": 11,
     "metadata": {},
     "output_type": "execute_result"
    }
   ],
   "source": [
    "# describe divided sample\n",
    "describe_divided = stats.describe(\n",
    "    divided_bpr_sample, axis=0, ddof=1,\n",
    "    bias=True, nan_policy='propagate')\n",
    "\n",
    "describe_divided._asdict()"
   ]
  },
  {
   "cell_type": "code",
   "execution_count": 12,
   "metadata": {},
   "outputs": [
    {
     "data": {
      "text/plain": [
       "{'nobs': 4785,\n",
       " 'minmax': (0.0, 1.0),\n",
       " 'mean': 0.4536611933412079,\n",
       " 'variance': 0.09577539191753283,\n",
       " 'skewness': 0.15330375535565288,\n",
       " 'kurtosis': -1.3465516323841615}"
      ]
     },
     "execution_count": 12,
     "metadata": {},
     "output_type": "execute_result"
    }
   ],
   "source": [
    "# describe unified sample\n",
    "describe_unified = stats.describe(\n",
    "    unified_bpr_sample, axis=0, ddof=1,\n",
    "    bias=True, nan_policy='propagate')\n",
    "\n",
    "describe_unified._asdict()"
   ]
  },
  {
   "cell_type": "markdown",
   "metadata": {},
   "source": [
    "## Box Plot: Divided vs Unified Samples\n",
    "\n",
    "The box plot indicates that there is a difference between the means of\n",
    "the two sample distributions.\n"
   ]
  },
  {
   "cell_type": "code",
   "execution_count": 13,
   "metadata": {},
   "outputs": [
    {
     "data": {
      "image/png": "[encoded data removed]",
      "text/plain": [
       "<Figure size 1600x600 with 1 Axes>"
      ]
     },
     "metadata": {},
     "output_type": "display_data"
    }
   ],
   "source": [
    "samples = [unified_bpr_sample, divided_bpr_sample]\n",
    "\n",
    "red_square = dict(markerfacecolor='r', marker='s')\n",
    "plt.style.use('dark_background')\n",
    "\n",
    "fig, ax = plt.subplots(figsize=(16, 6))\n",
    "\n",
    "ax.boxplot(samples, flierprops=red_square,\n",
    "           vert=False, notch=True, bootstrap=10000)\n",
    "\n",
    "ax.set_title('Divided vs Unified Samples', fontsize=26)\n",
    "ax.set_yticklabels([\"Unified\", \"Divided\"], fontsize=18)\n",
    "ax.set_xlabel(\"Ratio\", fontsize=18)\n",
    "\n",
    "# plt.savefig(\"divided_vs_unified_box_plot\", dpi=600, bbox_inches='tight')\n",
    "plt.show()"
   ]
  },
  {
   "cell_type": "markdown",
   "metadata": {},
   "source": [
    "## Perform Welch's T Test\n",
    "\n",
    "Welch's T test returned a p value of $7.04 * 10^{-6}$, which was well\n",
    "within our $\\alpha = 0.05$.\n",
    "\n",
    "Bootstrapping would assist in confirming the results.\n"
   ]
  },
  {
   "cell_type": "code",
   "execution_count": 22,
   "metadata": {},
   "outputs": [
    {
     "data": {
      "text/plain": [
       "Ttest_indResult(statistic=-4.42804978982108, pvalue=9.609071866049597e-06)"
      ]
     },
     "execution_count": 22,
     "metadata": {},
     "output_type": "execute_result"
    }
   ],
   "source": [
    "ttest_results = stats.ttest_ind(\n",
    "    divided_bpr_sample, unified_bpr_sample, axis=0,\n",
    "    equal_var=False, nan_policy='propagate')\n",
    "\n",
    "ttest_results"
   ]
  },
  {
   "cell_type": "markdown",
   "metadata": {},
   "source": [
    "Results:\n",
    "\n",
    "```text\n",
    "statistic=-4.42804978982108\n",
    "pvalue=9.609071866049597e-06\n",
    "\n",
    "```\n",
    "\n",
    "The Welch's T-Test indicates that there is a statistically significant\n",
    "difference in the bipartisanship between unified and divided governments.\n",
    "\n",
    "It's interesting to note that the unified governments observed indicate\n",
    "more bipartisanship as measured.\n"
   ]
  },
  {
   "cell_type": "markdown",
   "metadata": {},
   "source": [
    "## Confirm results via Bootstrap method\n",
    "\n",
    "For each distribution:\n",
    "\n",
    "- create a sample of 1000 values, randomly chosen from the distribution with replacement\n",
    "- find the mean of this set of 1000 values\n",
    "- repeat this process, creating a list of 10000 means from each distribution\n"
   ]
  },
  {
   "cell_type": "code",
   "execution_count": 15,
   "metadata": {},
   "outputs": [],
   "source": [
    "# establish bootstrap repetition size and sample size\n",
    "bstrp_size = 10000\n",
    "smple_n = 1000"
   ]
  },
  {
   "cell_type": "code",
   "execution_count": 16,
   "metadata": {},
   "outputs": [],
   "source": [
    "# list of len bstrp_size, each smple_n sized\n",
    "\n",
    "# divided\n",
    "divided_samples = [np.random.choice(\n",
    "    divided_bpr_sample,\n",
    "    size=smple_n,\n",
    "    replace=True,\n",
    "    p=None) for i in range(bstrp_size)]"
   ]
  },
  {
   "cell_type": "code",
   "execution_count": 17,
   "metadata": {},
   "outputs": [],
   "source": [
    "# unified\n",
    "unified_samples = [np.random.choice(\n",
    "    unified_bpr_sample,\n",
    "    size=smple_n,\n",
    "    replace=True,\n",
    "    p=None) for i in range(bstrp_size)]"
   ]
  },
  {
   "cell_type": "code",
   "execution_count": 18,
   "metadata": {},
   "outputs": [],
   "source": [
    "divided_means = np.mean(divided_samples, axis=0)\n",
    "unified_means = np.mean(unified_samples, axis=0)"
   ]
  },
  {
   "cell_type": "markdown",
   "metadata": {},
   "source": [
    "## Create KDE Plot\n",
    "\n",
    "A kernel density estimate (KDE) plot is similar to a histogram that uses\n",
    "a continuous probability density curve. The plot visually demonstrates\n",
    "the significance of the difference.\n"
   ]
  },
  {
   "cell_type": "code",
   "execution_count": 19,
   "metadata": {},
   "outputs": [
    {
     "data": {
      "image/png": "[encoded data removed]",
      "text/plain": [
       "<Figure size 1600x600 with 1 Axes>"
      ]
     },
     "metadata": {},
     "output_type": "display_data"
    }
   ],
   "source": [
    "# plot of 2 variables\n",
    "fig, p1 = plt.subplots(figsize=(16, 6))\n",
    "\n",
    "p1 = sns.kdeplot(divided_means, fill=True, color=\"r\")\n",
    "p1 = sns.kdeplot(unified_means, fill=True, color=\"cornflowerblue\")\n",
    "\n",
    "fig.suptitle(\n",
    "    \"Divided vs Unified\\nBootstrapped Mean Density\",\n",
    "    fontsize=22)\n",
    "\n",
    "p1.legend(\n",
    "    ('Divided Means', 'Unified Means'),\n",
    "    loc='upper right')\n",
    "\n",
    "p1.set_xlabel('Mean', fontsize=18)\n",
    "p1.set_ylabel('Density', fontsize=18)\n",
    "\n",
    "# plt.savefig(\n",
    "#     \"d_vs_u_bootstrap_mean_density\",\n",
    "#     dpi=600,\n",
    "#     bbox_inches='tight')\n",
    "\n",
    "plt.show()"
   ]
  },
  {
   "cell_type": "markdown",
   "metadata": {},
   "source": [
    "## Calculate Margin of Error for Each Bootstrapped Distribution\n"
   ]
  },
  {
   "cell_type": "code",
   "execution_count": 20,
   "metadata": {},
   "outputs": [],
   "source": [
    "# Calculate the standard deviation of the means of the bootstrap samples.\n",
    "divided_means_std = np.std(divided_means)\n",
    "unified_means_std = np.std(unified_means)\n",
    "\n",
    "# double the standard deviation for the 95% confidence interval.\n",
    "divided_margin_of_error = 2 * np.std(divided_means)\n",
    "unified_margin_of_error = 2 * np.std(unified_means)"
   ]
  },
  {
   "cell_type": "markdown",
   "metadata": {},
   "source": [
    "We are 95% confident that the population mean lies within this margin of\n",
    "error. More specifically if we were to take many samples, 95% percent of\n",
    "the time the population mean would lie within this margin of error.\n"
   ]
  },
  {
   "cell_type": "code",
   "execution_count": 21,
   "metadata": {},
   "outputs": [
    {
     "name": "stdout",
     "output_type": "stream",
     "text": [
      "Divided Margin of Error: 0.0061732270609776065\n",
      "Unified Margin of Error: 0.006270709531621962\n"
     ]
    }
   ],
   "source": [
    "print(f\"Divided Margin of Error: {divided_margin_of_error}\")\n",
    "print(f\"Unified Margin of Error: {unified_margin_of_error}\")"
   ]
  },
  {
   "cell_type": "markdown",
   "metadata": {},
   "source": [
    "## Conclusions, Next Steps\n",
    "\n",
    "Although the scale of values is quite fine, Welch's T test allows us to\n",
    "reject the null hypothesis.\n",
    "\n",
    "Additionally, the data suggests that a unified government may demonstrate\n",
    "a slight, but statistically significant, increase in legislative\n",
    "bipartisanship.\n",
    "\n",
    "Further research directions include:\n",
    "\n",
    "- Refining the metric, possibly based upon per capita votes to accommodate\n",
    "  vote volume differences\n",
    "- Broadening inquiry into sessions where only one chamber is in\n",
    "  opposition to the administration\n",
    "- Training a model to predict mean bipartisanship\n"
   ]
  },
  {
   "cell_type": "markdown",
   "metadata": {},
   "source": [
    "## Sources & References:\n",
    "\n",
    "### Primary data source:\n",
    "\n",
    "Lewis, Jeffrey B., Keith Poole, Howard Rosenthal, Adam Boche, Aaron\n",
    "Rudkin, and Luke Sonnet (2020). Voteview: Congressional Roll-Call Votes\n",
    "Database. https://voteview.com/\n",
    "\n",
    "### Party Control of Presidency and Congress\n",
    "\n",
    "https://cstl-cla.semo.edu/rdrenka/ui320-75/presandcongress.asp  \n",
    "https://en.wikipedia.org/wiki/Divided_government_in_the_United_States\n"
   ]
  }
 ],
 "metadata": {
  "kernelspec": {
   "display_name": "Python 3",
   "language": "python",
   "name": "python3"
  },
  "language_info": {
   "codemirror_mode": {
    "name": "ipython",
    "version": 3
   },
   "file_extension": ".py",
   "mimetype": "text/x-python",
   "name": "python",
   "nbconvert_exporter": "python",
   "pygments_lexer": "ipython3",
   "version": "3.11.4"
  }
 },
 "nbformat": 4,
 "nbformat_minor": 4
}
