{
 "cells": [
  {
   "cell_type": "markdown",
   "metadata": {},
   "source": [
    "# Four Administrations: A Hypothesis Test\n",
    "\n",
    "The composition of congress often changes during the course of a president's administration. This change provides an interesting opportunity: the ability to compare bipartisanship within an administration.\n",
    "\n",
    "These four, a balance of two Republican and two Democratic administrations, present two mutually-exclusive scenarios: \n",
    "- the party holds both the executive and both chambers of congress\n",
    "- one party holds the executive and both chambers are held by the opposition\n",
    "\n",
    "|Years  | President & Party   |  | Congress  | House (D) | House (R) | House (other) | Senate (D) | Senate (R) | Senate (other) | Government  is: |\n",
    "| ------ | ------ | ---- | ---- | ---- | ---- | ---- | ---- | ---- | ---- | ------- |\n",
    "| 1947-48 | Truman | D    | 80th | 188  | 246  | 1    | 45   | 51   | 0    | divided |\n",
    "| 1949-50 | Truman | D    | 81st | 263  | 171  | 1    | 54   | 42   | 0    | unified |\n",
    "| 1953-54 | Eisenhower | R    | 83rd | 213  | 221  | 1    | 47   | 48   | 1    | unified |\n",
    "| 1955-56 | Eisenhower | R    | 84th | 232  | 203  | 0    | 48   | 47   | 1    | divided |\n",
    "| 1993-94 | Clinton | D    | 103rd | 258  | 176  | 1    | 57   | 43   | 0    | unified |\n",
    "| 1995-96 | Clinton | D    | 104th | 202  | 232  | 1    | 46   | 54   | 0    | divided |\n",
    "| 2005-06 | Bush, GW | R    | 109th | 200  | 234  | 1    | 45   | 55   | 0    | unified |\n",
    "| 2007-08 | Bush, GW | R    | 110th | 231  | 204  | 0    | 51   | 49   | 0    | divided |"
   ]
  },
  {
   "cell_type": "markdown",
   "metadata": {},
   "source": [
    "# Hypothesis: \n",
    "There is a statistically significant difference in congressional bipartisanship between unified and divided governments.\n",
    "\n",
    "$H_0: \\mu_{1} = \\mu_{2}$: There is no statistical difference in the means  \n",
    "$H_1: \\mu_{1} \\neq \\mu_{2}$ There is a statistical difference in the means  \n",
    "\n",
    "$ \\alpha = 0.05$"
   ]
  },
  {
   "cell_type": "markdown",
   "metadata": {},
   "source": [
    "# Methodology & Rationale:\n",
    "\n",
    "- Sample data will be divided in to mutually exclusive categories: four Unified years and four Divided years.\n",
    "- Welch's T test will be employed on the data to determine statistical difference\n",
    " - Welch's accommodates for possible differences in variance\n",
    " - Sample sizes are large enough to accomodate possible non-normal distribution"
   ]
  },
  {
   "cell_type": "markdown",
   "metadata": {},
   "source": [
    "### Imports:"
   ]
  },
  {
   "cell_type": "code",
   "execution_count": 1,
   "metadata": {},
   "outputs": [
    {
     "data": {
      "text/html": [
       "\n",
       "<style>\n",
       ".output_png {\n",
       "    display: table-cell;\n",
       "    text-align: center;\n",
       "    margin:auto;\n",
       "}\n",
       ".prompt \n",
       "    display:none;\n",
       "}  \n",
       "</style>\n"
      ],
      "text/plain": [
       "<IPython.core.display.HTML object>"
      ]
     },
     "execution_count": 1,
     "metadata": {},
     "output_type": "execute_result"
    }
   ],
   "source": [
    "## Import packages\n",
    "import pandas as pd\n",
    "import numpy as np\n",
    "import matplotlib.pyplot as plt\n",
    "%matplotlib inline\n",
    "import seaborn as sns\n",
    "from src.ratio_calc import calculate_bpr, bpr_result_graph, get_bpr_data_from_urls, bpr_result_graph_ax\n",
    "from scipy import stats\n",
    "\n",
    "# code to center graphs in window\n",
    "# source:\n",
    "# https://stackoverflow.com/a/47801379\n",
    "\n",
    "from IPython.core.display import HTML\n",
    "HTML(\"\"\"\n",
    "<style>\n",
    ".output_png {\n",
    "    display: table-cell;\n",
    "    text-align: center;\n",
    "    margin:auto;\n",
    "}\n",
    ".prompt \n",
    "    display:none;\n",
    "}  \n",
    "</style>\n",
    "\"\"\")"
   ]
  },
  {
   "cell_type": "markdown",
   "metadata": {},
   "source": [
    "### Gather & Process Unified & Divided Data"
   ]
  },
  {
   "cell_type": "code",
   "execution_count": 2,
   "metadata": {},
   "outputs": [],
   "source": [
    "# Create lists of divided & unified congressional sessions\n",
    "hs_divided_sessions = [80, 84, 104, 110]\n",
    "hs_unified_sessions = [81, 83, 103, 109]"
   ]
  },
  {
   "cell_type": "markdown",
   "metadata": {},
   "source": [
    "### Fetch & process associated files"
   ]
  },
  {
   "cell_type": "code",
   "execution_count": 3,
   "metadata": {},
   "outputs": [],
   "source": [
    "# divided\n",
    "divided_bpr_hs_sessions = get_bpr_data_from_urls(given_list=hs_divided_sessions, chamber=\"HS\")"
   ]
  },
  {
   "cell_type": "code",
   "execution_count": 4,
   "metadata": {},
   "outputs": [],
   "source": [
    "# unified\n",
    "unified_bpr_hs_sessions = get_bpr_data_from_urls(given_list=hs_unified_sessions, chamber=\"HS\")"
   ]
  },
  {
   "cell_type": "code",
   "execution_count": 5,
   "metadata": {},
   "outputs": [
    {
     "name": "stdout",
     "output_type": "stream",
     "text": [
      "dict_keys(['hs_080', 'hs_084', 'hs_104', 'hs_110']) \n",
      " dict_keys(['hs_081', 'hs_083', 'hs_103', 'hs_109'])\n"
     ]
    }
   ],
   "source": [
    "# Confirm keys:\n",
    "print(divided_bpr_hs_sessions.keys(), \"\\n\", unified_bpr_hs_sessions.keys())"
   ]
  },
  {
   "cell_type": "code",
   "execution_count": 6,
   "metadata": {},
   "outputs": [],
   "source": [
    "# combine divided bpr lists into single sample list\n",
    "d_hs_080 = [divided_bpr_hs_sessions['hs_080'][i][1] for i in range(len(divided_bpr_hs_sessions['hs_080']))]\n",
    "d_hs_084 = [divided_bpr_hs_sessions['hs_084'][i][1] for i in range(len(divided_bpr_hs_sessions['hs_084']))]\n",
    "d_hs_104 = [divided_bpr_hs_sessions['hs_104'][i][1] for i in range(len(divided_bpr_hs_sessions['hs_104']))]\n",
    "d_hs_110 = [divided_bpr_hs_sessions['hs_110'][i][1] for i in range(len(divided_bpr_hs_sessions['hs_110']))]\n",
    "\n",
    "divided_bpr_sample = d_hs_080 + d_hs_084 + d_hs_104 + d_hs_110"
   ]
  },
  {
   "cell_type": "code",
   "execution_count": 7,
   "metadata": {},
   "outputs": [],
   "source": [
    "# combine unified bpr lists into single sample list\n",
    "u_hs_081 = [unified_bpr_hs_sessions['hs_081'][i][1] for i in range(len(unified_bpr_hs_sessions['hs_081']))]\n",
    "u_hs_083 = [unified_bpr_hs_sessions['hs_083'][i][1] for i in range(len(unified_bpr_hs_sessions['hs_083']))]\n",
    "u_hs_103 = [unified_bpr_hs_sessions['hs_103'][i][1] for i in range(len(unified_bpr_hs_sessions['hs_103']))]\n",
    "u_hs_109 = [unified_bpr_hs_sessions['hs_109'][i][1] for i in range(len(unified_bpr_hs_sessions['hs_109']))]\n",
    "\n",
    "unified_bpr_sample = u_hs_081 + u_hs_083 + u_hs_103 + u_hs_109"
   ]
  },
  {
   "cell_type": "markdown",
   "metadata": {},
   "source": [
    "## Describe Results"
   ]
  },
  {
   "cell_type": "code",
   "execution_count": 8,
   "metadata": {},
   "outputs": [
    {
     "data": {
      "text/plain": [
       "DescribeResult(nobs=5519, minmax=(0.0, 1.0), mean=0.4268555206834909, variance=0.09480666363634248, skewness=0.28516042794874996, kurtosis=-1.2978799480194478)"
      ]
     },
     "execution_count": 8,
     "metadata": {},
     "output_type": "execute_result"
    }
   ],
   "source": [
    "# describe divided sample\n",
    "stats.describe(divided_bpr_sample, axis=0, ddof=1, bias=True, nan_policy='propagate')"
   ]
  },
  {
   "cell_type": "code",
   "execution_count": 9,
   "metadata": {},
   "outputs": [
    {
     "data": {
      "text/plain": [
       "DescribeResult(nobs=4796, minmax=(0.0, 1.0), mean=0.4542494663978474, variance=0.0957530238101519, skewness=0.15261670701268693, kurtosis=-1.3460434447910645)"
      ]
     },
     "execution_count": 9,
     "metadata": {},
     "output_type": "execute_result"
    }
   ],
   "source": [
    "# describe unified sample\n",
    "stats.describe(unified_bpr_sample, axis=0, ddof=1, bias=True, nan_policy='propagate')"
   ]
  },
  {
   "cell_type": "markdown",
   "metadata": {},
   "source": [
    "## Box Plot: Divided vs Unified Samples\n",
    "\n",
    "The box plot indicates that there is a difference between the means of the two sample distributions."
   ]
  },
  {
   "cell_type": "code",
   "execution_count": 20,
   "metadata": {},
   "outputs": [
    {
     "data": {
      "image/png": "[encoded data removed]",
      "text/plain": [
       "<Figure size 1152x432 with 1 Axes>"
      ]
     },
     "metadata": {},
     "output_type": "display_data"
    }
   ],
   "source": [
    "samples = [unified_bpr_sample, divided_bpr_sample]\n",
    "\n",
    "red_square = dict(markerfacecolor='r', marker='s')\n",
    "plt.style.use('dark_background')\n",
    "\n",
    "fig, ax = plt.subplots(figsize=(16, 6))\n",
    "\n",
    "ax.boxplot(samples, flierprops=red_square, vert=False, notch=True, bootstrap=10000)\n",
    "\n",
    "ax.set_title('Divided vs Unified Samples', fontsize=26)\n",
    "ax.set_yticklabels([\"Unified\",\"Divided\"], fontsize=18)\n",
    "ax.set_xlabel(\"Ratio\", fontsize=18)\n",
    "\n",
    "# plt.savefig(\"divided_vs_unified_box_plot\", dpi=600, bbox_inches='tight')\n",
    "plt.show()"
   ]
  },
  {
   "cell_type": "markdown",
   "metadata": {},
   "source": [
    "## Perform Welch's T Test\n",
    "\n",
    "Welch's T test returned a p value of $7.04 * 10^{-6}$, which was well within our $\\alpha = 0.05$. Bootstrapping would assist in confirming the results."
   ]
  },
  {
   "cell_type": "code",
   "execution_count": 11,
   "metadata": {},
   "outputs": [
    {
     "data": {
      "text/plain": [
       "Ttest_indResult(statistic=-4.4948340968839435, pvalue=7.039940720318759e-06)"
      ]
     },
     "execution_count": 11,
     "metadata": {},
     "output_type": "execute_result"
    }
   ],
   "source": [
    "stats.ttest_ind(divided_bpr_sample, unified_bpr_sample, axis=0, equal_var=False, nan_policy='propagate')\n",
    "\n",
    "# Returns:\n",
    "# Ttest_indResult(statistic=-4.4948340968839435, pvalue=7.039940720318759e-06)\n",
    "\n",
    "# This p value is statistically significant"
   ]
  },
  {
   "cell_type": "markdown",
   "metadata": {},
   "source": [
    "## Confirm results via Bootstrap method\n",
    "\n",
    "For each distribution:\n",
    "- create a sample of 1000 values, randomly chosen from the distribution with replacement\n",
    "- find the mean of this set of 1000 values\n",
    "- repeat this process, creating a list of 10000 means from each distribution"
   ]
  },
  {
   "cell_type": "code",
   "execution_count": 12,
   "metadata": {},
   "outputs": [],
   "source": [
    "# establish bootstrap repetition size and sample size\n",
    "bstrp_size = 10000\n",
    "smple_n = 1000"
   ]
  },
  {
   "cell_type": "code",
   "execution_count": 13,
   "metadata": {},
   "outputs": [],
   "source": [
    "# list of len bstrp_size, each smple_n sized\n",
    "\n",
    "# divided\n",
    "divided_samples = [np.random.choice(divided_bpr_sample, size=smple_n, replace=True, p=None) for i in range(bstrp_size)]"
   ]
  },
  {
   "cell_type": "code",
   "execution_count": 14,
   "metadata": {},
   "outputs": [],
   "source": [
    "# unified\n",
    "unified_samples = [np.random.choice(unified_bpr_sample, size=smple_n, replace=True, p=None) for i in range(bstrp_size)]"
   ]
  },
  {
   "cell_type": "code",
   "execution_count": 15,
   "metadata": {},
   "outputs": [],
   "source": [
    "divided_means = np.mean(divided_samples, axis=0)\n",
    "unified_means = np.mean(unified_samples, axis=0)"
   ]
  },
  {
   "cell_type": "markdown",
   "metadata": {},
   "source": [
    "## Create KDE Plot\n",
    "\n",
    "A kernel density estimate (KDE) plot is similar to a histogram that uses a continuous probability density curve. The plot visually demonstrates the significance of the difference."
   ]
  },
  {
   "cell_type": "code",
   "execution_count": 21,
   "metadata": {},
   "outputs": [
    {
     "data": {
      "image/png": "[encoded data removed]",
      "text/plain": [
       "<Figure size 1152x432 with 1 Axes>"
      ]
     },
     "metadata": {},
     "output_type": "display_data"
    }
   ],
   "source": [
    "# plot of 2 variables\n",
    "fig, p1 = plt.subplots(figsize=(16, 6))\n",
    "\n",
    "p1=sns.kdeplot(divided_means, shade=True, color=\"r\")\n",
    "p1=sns.kdeplot(unified_means, shade=True, color=\"cornflowerblue\")\n",
    "\n",
    "fig.suptitle(\"Divided vs Unified\\nBootstrapped Mean Density\", fontsize=22)\n",
    "p1.legend(('Divided Means', 'Unified Means'), loc='upper right')\n",
    "\n",
    "p1.set_xlabel('Mean', fontsize=18)\n",
    "p1.set_ylabel('Density', fontsize=18)\n",
    "\n",
    "# plt.savefig(\"d_vs_u_bootstrap_mean_density\", dpi=600, bbox_inches='tight')\n",
    "\n",
    "plt.show()"
   ]
  },
  {
   "cell_type": "markdown",
   "metadata": {},
   "source": [
    "## Calculate Margin of Error for Each Bootstrapped Distribution"
   ]
  },
  {
   "cell_type": "code",
   "execution_count": 17,
   "metadata": {},
   "outputs": [
    {
     "name": "stdout",
     "output_type": "stream",
     "text": [
      "Divided Margin of Error: 0.006423912039799648\n",
      "Unified Margin of Error: 0.0061711078795822355\n"
     ]
    }
   ],
   "source": [
    "# Calculate the standard deviation of the means of the bootstrap samples.\n",
    "divided_means_std = np.std(divided_means)\n",
    "unified_means_std = np.std(unified_means)\n",
    "\n",
    "# double the standard deviation for the 95% confidence interval. \n",
    "divided_margin_of_error = 2 * np.std(divided_means)\n",
    "unified_margin_of_error = 2 * np.std(unified_means)\n",
    "\n",
    "# We are 95% confident that the population mean lies within this margin of error. \n",
    "# More specifically if we were to take many samples, then 95% percent of the time the \n",
    "# the population mean would lie in this margin of error.\n",
    "print(f\"Divided Margin of Error: {divided_margin_of_error}\")\n",
    "print(f\"Unified Margin of Error: {unified_margin_of_error}\")"
   ]
  },
  {
   "cell_type": "markdown",
   "metadata": {},
   "source": [
    "# Conclusions, Next Steps\n",
    "\n",
    "Although the scale of values is quite fine, Welch's T test allows us to reject the null hypothesis. \n",
    "\n",
    "Additionally, the data suggests that a unified government may demonstrate a slight, but statistically significant, increase in legislative bipartisanship. \n",
    "\n",
    "Further research directions include:\n",
    "- Refining the metric, possibly based upon per capita votes to accomodate vote volume differences\n",
    "- Broadening inquiry into sessions where only one chamber is in opposition to the administration\n",
    "- Training a model to predict mean bipartisanship"
   ]
  },
  {
   "cell_type": "markdown",
   "metadata": {},
   "source": [
    "# Sources & References:\n",
    "\n",
    "### Primary data source:\n",
    "Lewis, Jeffrey B., Keith Poole, Howard Rosenthal, Adam Boche, Aaron Rudkin, and Luke Sonnet (2020). Voteview: Congressional Roll-Call Votes Database. https://voteview.com/\n",
    "\n",
    "### Party Control of Presidency and Congress\n",
    "https://cstl-cla.semo.edu/rdrenka/ui320-75/presandcongress.asp  \n",
    "https://en.wikipedia.org/wiki/Divided_government_in_the_United_States"
   ]
  }
 ],
 "metadata": {
  "kernelspec": {
   "display_name": "Python 3",
   "language": "python",
   "name": "python3"
  },
  "language_info": {
   "codemirror_mode": {
    "name": "ipython",
    "version": 3
   },
   "file_extension": ".py",
   "mimetype": "text/x-python",
   "name": "python",
   "nbconvert_exporter": "python",
   "pygments_lexer": "ipython3",
   "version": "3.8.6"
  }
 },
 "nbformat": 4,
 "nbformat_minor": 4
}
